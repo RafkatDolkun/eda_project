{
  "nbformat": 4,
  "nbformat_minor": 0,
  "metadata": {
    "colab": {
      "name": "EDA_Notebook_Dolkun_Rafkat.ipynb",
      "provenance": [],
      "authorship_tag": "ABX9TyMI1Fi9NHmdOtSm0hUJ7d46",
      "include_colab_link": true
    },
    "kernelspec": {
      "name": "python3",
      "display_name": "Python 3"
    }
  },
  "cells": [
    {
      "cell_type": "markdown",
      "metadata": {
        "id": "view-in-github",
        "colab_type": "text"
      },
      "source": [
        "<a href=\"https://colab.research.google.com/github/RafkatDolkun/eda_project/blob/main/EDA_Notebook_Dolkun_Rafkat.ipynb\" target=\"_parent\"><img src=\"https://colab.research.google.com/assets/colab-badge.svg\" alt=\"Open In Colab\"/></a>"
      ]
    },
    {
      "cell_type": "code",
      "metadata": {
        "id": "wgReBbRC6_Mm"
      },
      "source": [
        "Blog Link: https://medium.com/@dolkun/auction-car-sales-a-project-in-exploratory-data-analysis-a45ac87d7ff7"
      ],
      "execution_count": null,
      "outputs": []
    },
    {
      "cell_type": "code",
      "metadata": {
        "id": "NxcmqLXVpDiW"
      },
      "source": [
        "# Importing required libraries\r\n",
        "import pandas as pd\r\n",
        "import numpy as np\r\n",
        "import matplotlib.pyplot as plt"
      ],
      "execution_count": 2,
      "outputs": []
    },
    {
      "cell_type": "code",
      "metadata": {
        "colab": {
          "base_uri": "https://localhost:8080/",
          "height": 419
        },
        "id": "1NCzZmDKpLt3",
        "outputId": "d663bb59-5a19-4657-fc5f-fa9593308203"
      },
      "source": [
        "# Reading the CSV file\r\n",
        "dfCars = pd.read_csv(\"USA_cars_datasets.csv\")\r\n",
        "dfCars"
      ],
      "execution_count": 4,
      "outputs": [
        {
          "output_type": "execute_result",
          "data": {
            "text/html": [
              "<div>\n",
              "<style scoped>\n",
              "    .dataframe tbody tr th:only-of-type {\n",
              "        vertical-align: middle;\n",
              "    }\n",
              "\n",
              "    .dataframe tbody tr th {\n",
              "        vertical-align: top;\n",
              "    }\n",
              "\n",
              "    .dataframe thead th {\n",
              "        text-align: right;\n",
              "    }\n",
              "</style>\n",
              "<table border=\"1\" class=\"dataframe\">\n",
              "  <thead>\n",
              "    <tr style=\"text-align: right;\">\n",
              "      <th></th>\n",
              "      <th>Unnamed: 0</th>\n",
              "      <th>price</th>\n",
              "      <th>brand</th>\n",
              "      <th>model</th>\n",
              "      <th>year</th>\n",
              "      <th>title_status</th>\n",
              "      <th>mileage</th>\n",
              "      <th>color</th>\n",
              "      <th>vin</th>\n",
              "      <th>lot</th>\n",
              "      <th>state</th>\n",
              "      <th>country</th>\n",
              "      <th>condition</th>\n",
              "    </tr>\n",
              "  </thead>\n",
              "  <tbody>\n",
              "    <tr>\n",
              "      <th>0</th>\n",
              "      <td>0</td>\n",
              "      <td>6300</td>\n",
              "      <td>toyota</td>\n",
              "      <td>cruiser</td>\n",
              "      <td>2008</td>\n",
              "      <td>clean vehicle</td>\n",
              "      <td>274117.0</td>\n",
              "      <td>black</td>\n",
              "      <td>jtezu11f88k007763</td>\n",
              "      <td>159348797</td>\n",
              "      <td>new jersey</td>\n",
              "      <td>usa</td>\n",
              "      <td>10 days left</td>\n",
              "    </tr>\n",
              "    <tr>\n",
              "      <th>1</th>\n",
              "      <td>1</td>\n",
              "      <td>2899</td>\n",
              "      <td>ford</td>\n",
              "      <td>se</td>\n",
              "      <td>2011</td>\n",
              "      <td>clean vehicle</td>\n",
              "      <td>190552.0</td>\n",
              "      <td>silver</td>\n",
              "      <td>2fmdk3gc4bbb02217</td>\n",
              "      <td>166951262</td>\n",
              "      <td>tennessee</td>\n",
              "      <td>usa</td>\n",
              "      <td>6 days left</td>\n",
              "    </tr>\n",
              "    <tr>\n",
              "      <th>2</th>\n",
              "      <td>2</td>\n",
              "      <td>5350</td>\n",
              "      <td>dodge</td>\n",
              "      <td>mpv</td>\n",
              "      <td>2018</td>\n",
              "      <td>clean vehicle</td>\n",
              "      <td>39590.0</td>\n",
              "      <td>silver</td>\n",
              "      <td>3c4pdcgg5jt346413</td>\n",
              "      <td>167655728</td>\n",
              "      <td>georgia</td>\n",
              "      <td>usa</td>\n",
              "      <td>2 days left</td>\n",
              "    </tr>\n",
              "    <tr>\n",
              "      <th>3</th>\n",
              "      <td>3</td>\n",
              "      <td>25000</td>\n",
              "      <td>ford</td>\n",
              "      <td>door</td>\n",
              "      <td>2014</td>\n",
              "      <td>clean vehicle</td>\n",
              "      <td>64146.0</td>\n",
              "      <td>blue</td>\n",
              "      <td>1ftfw1et4efc23745</td>\n",
              "      <td>167753855</td>\n",
              "      <td>virginia</td>\n",
              "      <td>usa</td>\n",
              "      <td>22 hours left</td>\n",
              "    </tr>\n",
              "    <tr>\n",
              "      <th>4</th>\n",
              "      <td>4</td>\n",
              "      <td>27700</td>\n",
              "      <td>chevrolet</td>\n",
              "      <td>1500</td>\n",
              "      <td>2018</td>\n",
              "      <td>clean vehicle</td>\n",
              "      <td>6654.0</td>\n",
              "      <td>red</td>\n",
              "      <td>3gcpcrec2jg473991</td>\n",
              "      <td>167763266</td>\n",
              "      <td>florida</td>\n",
              "      <td>usa</td>\n",
              "      <td>22 hours left</td>\n",
              "    </tr>\n",
              "    <tr>\n",
              "      <th>...</th>\n",
              "      <td>...</td>\n",
              "      <td>...</td>\n",
              "      <td>...</td>\n",
              "      <td>...</td>\n",
              "      <td>...</td>\n",
              "      <td>...</td>\n",
              "      <td>...</td>\n",
              "      <td>...</td>\n",
              "      <td>...</td>\n",
              "      <td>...</td>\n",
              "      <td>...</td>\n",
              "      <td>...</td>\n",
              "      <td>...</td>\n",
              "    </tr>\n",
              "    <tr>\n",
              "      <th>2494</th>\n",
              "      <td>2494</td>\n",
              "      <td>7800</td>\n",
              "      <td>nissan</td>\n",
              "      <td>versa</td>\n",
              "      <td>2019</td>\n",
              "      <td>clean vehicle</td>\n",
              "      <td>23609.0</td>\n",
              "      <td>red</td>\n",
              "      <td>3n1cn7ap9kl880319</td>\n",
              "      <td>167722715</td>\n",
              "      <td>california</td>\n",
              "      <td>usa</td>\n",
              "      <td>1 days left</td>\n",
              "    </tr>\n",
              "    <tr>\n",
              "      <th>2495</th>\n",
              "      <td>2495</td>\n",
              "      <td>9200</td>\n",
              "      <td>nissan</td>\n",
              "      <td>versa</td>\n",
              "      <td>2018</td>\n",
              "      <td>clean vehicle</td>\n",
              "      <td>34553.0</td>\n",
              "      <td>silver</td>\n",
              "      <td>3n1cn7ap5jl884088</td>\n",
              "      <td>167762225</td>\n",
              "      <td>florida</td>\n",
              "      <td>usa</td>\n",
              "      <td>21 hours left</td>\n",
              "    </tr>\n",
              "    <tr>\n",
              "      <th>2496</th>\n",
              "      <td>2496</td>\n",
              "      <td>9200</td>\n",
              "      <td>nissan</td>\n",
              "      <td>versa</td>\n",
              "      <td>2018</td>\n",
              "      <td>clean vehicle</td>\n",
              "      <td>31594.0</td>\n",
              "      <td>silver</td>\n",
              "      <td>3n1cn7ap9jl884191</td>\n",
              "      <td>167762226</td>\n",
              "      <td>florida</td>\n",
              "      <td>usa</td>\n",
              "      <td>21 hours left</td>\n",
              "    </tr>\n",
              "    <tr>\n",
              "      <th>2497</th>\n",
              "      <td>2497</td>\n",
              "      <td>9200</td>\n",
              "      <td>nissan</td>\n",
              "      <td>versa</td>\n",
              "      <td>2018</td>\n",
              "      <td>clean vehicle</td>\n",
              "      <td>32557.0</td>\n",
              "      <td>black</td>\n",
              "      <td>3n1cn7ap3jl883263</td>\n",
              "      <td>167762227</td>\n",
              "      <td>florida</td>\n",
              "      <td>usa</td>\n",
              "      <td>2 days left</td>\n",
              "    </tr>\n",
              "    <tr>\n",
              "      <th>2498</th>\n",
              "      <td>2498</td>\n",
              "      <td>9200</td>\n",
              "      <td>nissan</td>\n",
              "      <td>versa</td>\n",
              "      <td>2018</td>\n",
              "      <td>clean vehicle</td>\n",
              "      <td>31371.0</td>\n",
              "      <td>silver</td>\n",
              "      <td>3n1cn7ap4jl884311</td>\n",
              "      <td>167762228</td>\n",
              "      <td>florida</td>\n",
              "      <td>usa</td>\n",
              "      <td>21 hours left</td>\n",
              "    </tr>\n",
              "  </tbody>\n",
              "</table>\n",
              "<p>2499 rows × 13 columns</p>\n",
              "</div>"
            ],
            "text/plain": [
              "      Unnamed: 0  price      brand  ...       state  country      condition\n",
              "0              0   6300     toyota  ...  new jersey      usa   10 days left\n",
              "1              1   2899       ford  ...   tennessee      usa    6 days left\n",
              "2              2   5350      dodge  ...     georgia      usa    2 days left\n",
              "3              3  25000       ford  ...    virginia      usa  22 hours left\n",
              "4              4  27700  chevrolet  ...     florida      usa  22 hours left\n",
              "...          ...    ...        ...  ...         ...      ...            ...\n",
              "2494        2494   7800     nissan  ...  california      usa    1 days left\n",
              "2495        2495   9200     nissan  ...     florida      usa  21 hours left\n",
              "2496        2496   9200     nissan  ...     florida      usa  21 hours left\n",
              "2497        2497   9200     nissan  ...     florida      usa    2 days left\n",
              "2498        2498   9200     nissan  ...     florida      usa  21 hours left\n",
              "\n",
              "[2499 rows x 13 columns]"
            ]
          },
          "metadata": {
            "tags": []
          },
          "execution_count": 4
        }
      ]
    },
    {
      "cell_type": "code",
      "metadata": {
        "colab": {
          "base_uri": "https://localhost:8080/"
        },
        "id": "TgJmLjXjuhNO",
        "outputId": "91afe4b7-73cb-4ec4-daf2-bec23b52e9ff"
      },
      "source": [
        "# Figure out the rows and columns for the data frame\r\n",
        "dfCars.shape"
      ],
      "execution_count": 5,
      "outputs": [
        {
          "output_type": "execute_result",
          "data": {
            "text/plain": [
              "(2499, 13)"
            ]
          },
          "metadata": {
            "tags": []
          },
          "execution_count": 5
        }
      ]
    },
    {
      "cell_type": "code",
      "metadata": {
        "id": "4R-XIX11kYFL"
      },
      "source": [
        "# Remove condition and unnamed\r\n",
        "del dfCars['condition']\r\n",
        "del dfCars['Unnamed: 0']"
      ],
      "execution_count": 6,
      "outputs": []
    },
    {
      "cell_type": "code",
      "metadata": {
        "colab": {
          "base_uri": "https://localhost:8080/"
        },
        "id": "2SFzwX3ujoif",
        "outputId": "21208b98-5fc1-46da-8fe0-b2a12f4197e3"
      },
      "source": [
        "# What is the highest priced car being sold?\r\n",
        "dfCars.loc[dfCars['price'].idxmax()]"
      ],
      "execution_count": 7,
      "outputs": [
        {
          "output_type": "execute_result",
          "data": {
            "text/plain": [
              "price                         84900\n",
              "brand                 mercedes-benz\n",
              "model                      sl-class\n",
              "year                           2017\n",
              "title_status          clean vehicle\n",
              "mileage                       25302\n",
              "color                        silver\n",
              "vin               wddjk7ea3hf044968\n",
              "lot                       167607883\n",
              "state                       florida\n",
              "country                         usa\n",
              "condition               2 days left\n",
              "Name: 502, dtype: object"
            ]
          },
          "metadata": {
            "tags": []
          },
          "execution_count": 7
        }
      ]
    },
    {
      "cell_type": "code",
      "metadata": {
        "colab": {
          "base_uri": "https://localhost:8080/"
        },
        "id": "WT9SW-b1jxyY",
        "outputId": "2f0f7a35-91f3-45da-efe5-98bdce92b7f0"
      },
      "source": [
        "# The lowest price?\r\n",
        "dfCars.loc[dfCars['price'].idxmin()]\r\n",
        "# appears that the data set has values of 0 for prices"
      ],
      "execution_count": 6,
      "outputs": [
        {
          "output_type": "execute_result",
          "data": {
            "text/plain": [
              "price                             0\n",
              "brand                         dodge\n",
              "model                           van\n",
              "year                           2008\n",
              "title_status      salvage insurance\n",
              "mileage                      177948\n",
              "color                        orange\n",
              "vin               2d8hn44h88r669549\n",
              "lot                       167756157\n",
              "state                          utah\n",
              "country                         usa\n",
              "condition               2 days left\n",
              "Name: 141, dtype: object"
            ]
          },
          "metadata": {
            "tags": []
          },
          "execution_count": 6
        }
      ]
    },
    {
      "cell_type": "code",
      "metadata": {
        "colab": {
          "base_uri": "https://localhost:8080/"
        },
        "id": "p7MXx80Mj20S",
        "outputId": "aa7862d1-d1c9-49d1-bc98-b2d9f090534d"
      },
      "source": [
        "# What is the highest mileage car?\r\n",
        "dfCars.loc[dfCars['mileage'].idxmax()]\r\n",
        "# Interesting to see that it was a Peterbilt Semi Truck which was probably used for long hauls"
      ],
      "execution_count": 7,
      "outputs": [
        {
          "output_type": "execute_result",
          "data": {
            "text/plain": [
              "price                          1025\n",
              "brand                     peterbilt\n",
              "model                         truck\n",
              "year                           2010\n",
              "title_status      salvage insurance\n",
              "mileage                 1.01794e+06\n",
              "color                        color:\n",
              "vin               1xp7d49x0ad793710\n",
              "lot                       167529842\n",
              "state                       georgia\n",
              "country                         usa\n",
              "condition             17 hours left\n",
              "Name: 528, dtype: object"
            ]
          },
          "metadata": {
            "tags": []
          },
          "execution_count": 7
        }
      ]
    },
    {
      "cell_type": "code",
      "metadata": {
        "colab": {
          "base_uri": "https://localhost:8080/",
          "height": 204
        },
        "id": "eLYt7s26pasW",
        "outputId": "6c22c3de-032c-4535-af8e-6dac8fcb9c11"
      },
      "source": [
        "# After discovering that the Semi Truck had the most miles, I wanted to see if the top mileage vehicles were similar\r\n",
        "dfCars.sort_values(by=['mileage'],ascending=False).head(5)\r\n",
        "\r\n",
        "# Discovered that there were more Peterbilt trucks with very high mileage"
      ],
      "execution_count": 8,
      "outputs": [
        {
          "output_type": "execute_result",
          "data": {
            "text/html": [
              "<div>\n",
              "<style scoped>\n",
              "    .dataframe tbody tr th:only-of-type {\n",
              "        vertical-align: middle;\n",
              "    }\n",
              "\n",
              "    .dataframe tbody tr th {\n",
              "        vertical-align: top;\n",
              "    }\n",
              "\n",
              "    .dataframe thead th {\n",
              "        text-align: right;\n",
              "    }\n",
              "</style>\n",
              "<table border=\"1\" class=\"dataframe\">\n",
              "  <thead>\n",
              "    <tr style=\"text-align: right;\">\n",
              "      <th></th>\n",
              "      <th>price</th>\n",
              "      <th>brand</th>\n",
              "      <th>model</th>\n",
              "      <th>year</th>\n",
              "      <th>title_status</th>\n",
              "      <th>mileage</th>\n",
              "      <th>color</th>\n",
              "      <th>vin</th>\n",
              "      <th>lot</th>\n",
              "      <th>state</th>\n",
              "      <th>country</th>\n",
              "      <th>condition</th>\n",
              "    </tr>\n",
              "  </thead>\n",
              "  <tbody>\n",
              "    <tr>\n",
              "      <th>528</th>\n",
              "      <td>1025</td>\n",
              "      <td>peterbilt</td>\n",
              "      <td>truck</td>\n",
              "      <td>2010</td>\n",
              "      <td>salvage insurance</td>\n",
              "      <td>1017936.0</td>\n",
              "      <td>color:</td>\n",
              "      <td>1xp7d49x0ad793710</td>\n",
              "      <td>167529842</td>\n",
              "      <td>georgia</td>\n",
              "      <td>usa</td>\n",
              "      <td>17 hours left</td>\n",
              "    </tr>\n",
              "    <tr>\n",
              "      <th>1827</th>\n",
              "      <td>3200</td>\n",
              "      <td>ford</td>\n",
              "      <td>door</td>\n",
              "      <td>2013</td>\n",
              "      <td>clean vehicle</td>\n",
              "      <td>999999.0</td>\n",
              "      <td>silver</td>\n",
              "      <td>1fadp3k21dl266148</td>\n",
              "      <td>167727773</td>\n",
              "      <td>south carolina</td>\n",
              "      <td>usa</td>\n",
              "      <td>21 hours left</td>\n",
              "    </tr>\n",
              "    <tr>\n",
              "      <th>516</th>\n",
              "      <td>0</td>\n",
              "      <td>peterbilt</td>\n",
              "      <td>truck</td>\n",
              "      <td>2009</td>\n",
              "      <td>salvage insurance</td>\n",
              "      <td>982486.0</td>\n",
              "      <td>blue</td>\n",
              "      <td>1xp7d49x09d784257</td>\n",
              "      <td>167529788</td>\n",
              "      <td>florida</td>\n",
              "      <td>usa</td>\n",
              "      <td>17 hours left</td>\n",
              "    </tr>\n",
              "    <tr>\n",
              "      <th>490</th>\n",
              "      <td>475</td>\n",
              "      <td>peterbilt</td>\n",
              "      <td>truck</td>\n",
              "      <td>2012</td>\n",
              "      <td>salvage insurance</td>\n",
              "      <td>902041.0</td>\n",
              "      <td>gold</td>\n",
              "      <td>1xp4d49x9cd123630</td>\n",
              "      <td>167529786</td>\n",
              "      <td>florida</td>\n",
              "      <td>usa</td>\n",
              "      <td>17 hours left</td>\n",
              "    </tr>\n",
              "    <tr>\n",
              "      <th>531</th>\n",
              "      <td>2000</td>\n",
              "      <td>chevrolet</td>\n",
              "      <td>pickup</td>\n",
              "      <td>2003</td>\n",
              "      <td>clean vehicle</td>\n",
              "      <td>507985.0</td>\n",
              "      <td>red</td>\n",
              "      <td>1gcgc24u53z128586</td>\n",
              "      <td>167781223</td>\n",
              "      <td>wisconsin</td>\n",
              "      <td>usa</td>\n",
              "      <td>21 hours left</td>\n",
              "    </tr>\n",
              "  </tbody>\n",
              "</table>\n",
              "</div>"
            ],
            "text/plain": [
              "      price      brand   model  ...           state country      condition\n",
              "528    1025  peterbilt   truck  ...         georgia     usa  17 hours left\n",
              "1827   3200       ford    door  ...  south carolina     usa  21 hours left\n",
              "516       0  peterbilt   truck  ...         florida     usa  17 hours left\n",
              "490     475  peterbilt   truck  ...         florida     usa  17 hours left\n",
              "531    2000  chevrolet  pickup  ...       wisconsin     usa  21 hours left\n",
              "\n",
              "[5 rows x 12 columns]"
            ]
          },
          "metadata": {
            "tags": []
          },
          "execution_count": 8
        }
      ]
    },
    {
      "cell_type": "code",
      "metadata": {
        "colab": {
          "base_uri": "https://localhost:8080/"
        },
        "id": "uf3rfqQUr0L2",
        "outputId": "b2b48d20-103d-4f7e-d751-fd8cf447b709"
      },
      "source": [
        "# How many Peterbilts are there?\r\n",
        "\r\n",
        "peterbiltIndex = dfCars[dfCars['brand'] == 'peterbilt'].index\r\n",
        "print(dfCars.loc[peterbiltIndex])"
      ],
      "execution_count": 9,
      "outputs": [
        {
          "output_type": "stream",
          "text": [
            "     price      brand  model  year  ...        lot    state country      condition\n",
            "490    475  peterbilt  truck  2012  ...  167529786  florida     usa  17 hours left\n",
            "504    100  peterbilt  truck  2012  ...  167529787  florida     usa  17 hours left\n",
            "516      0  peterbilt  truck  2009  ...  167529788  florida     usa  17 hours left\n",
            "528   1025  peterbilt  truck  2010  ...  167529842  georgia     usa  17 hours left\n",
            "\n",
            "[4 rows x 12 columns]\n"
          ],
          "name": "stdout"
        }
      ]
    },
    {
      "cell_type": "code",
      "metadata": {
        "colab": {
          "base_uri": "https://localhost:8080/"
        },
        "id": "vnEVlkUmkFpa",
        "outputId": "e446db68-6cb9-453e-cc7c-9c71c3c8dda3"
      },
      "source": [
        "# Lowest mileage?\r\n",
        "dfCars.loc[dfCars['mileage'].idxmin()]\r\n",
        "# Need to clean up data, it is showing a price and mileage of 0"
      ],
      "execution_count": 10,
      "outputs": [
        {
          "output_type": "execute_result",
          "data": {
            "text/plain": [
              "price                             0\n",
              "brand                     chevrolet\n",
              "model                          door\n",
              "year                           2004\n",
              "title_status      salvage insurance\n",
              "mileage                           0\n",
              "color                        maroon\n",
              "vin               3gnek12t74g240524\n",
              "lot                       167418651\n",
              "state                       wyoming\n",
              "country                         usa\n",
              "condition             18 hours left\n",
              "Name: 309, dtype: object"
            ]
          },
          "metadata": {
            "tags": []
          },
          "execution_count": 10
        }
      ]
    },
    {
      "cell_type": "code",
      "metadata": {
        "colab": {
          "base_uri": "https://localhost:8080/"
        },
        "id": "7v4EWnlOkp8U",
        "outputId": "889bd409-e061-41be-b7ae-67c7d60c1b3e"
      },
      "source": [
        "# How many unique values for each column?\r\n",
        "dfCars.nunique(axis=0)"
      ],
      "execution_count": 11,
      "outputs": [
        {
          "output_type": "execute_result",
          "data": {
            "text/plain": [
              "price            790\n",
              "brand             28\n",
              "model            127\n",
              "year              30\n",
              "title_status       2\n",
              "mileage         2439\n",
              "color             49\n",
              "vin             2495\n",
              "lot             2495\n",
              "state             44\n",
              "country            2\n",
              "condition         47\n",
              "dtype: int64"
            ]
          },
          "metadata": {
            "tags": []
          },
          "execution_count": 11
        }
      ]
    },
    {
      "cell_type": "code",
      "metadata": {
        "colab": {
          "base_uri": "https://localhost:8080/"
        },
        "id": "avt4VnEdsU6G",
        "outputId": "b46a1861-b7b5-464c-d9be-4713d34a0631"
      },
      "source": [
        "# Why are there two countries?\r\n",
        "dfCars['country'].value_counts()\r\n",
        "\r\n",
        "# I thought this data base only had US car sales, but I was wrong\r\n",
        "# I now discovered that there were 7 listings in Canada\r\n",
        "# What were these listings?"
      ],
      "execution_count": 12,
      "outputs": [
        {
          "output_type": "execute_result",
          "data": {
            "text/plain": [
              " usa       2492\n",
              " canada       7\n",
              "Name: country, dtype: int64"
            ]
          },
          "metadata": {
            "tags": []
          },
          "execution_count": 12
        }
      ]
    },
    {
      "cell_type": "code",
      "metadata": {
        "colab": {
          "base_uri": "https://localhost:8080/"
        },
        "id": "h-7RIdqrt4Io",
        "outputId": "845ceb04-187e-4570-fea5-5c26a253d38e"
      },
      "source": [
        "# When finding listings in Canada, I was getting an empty data frame\r\n",
        "# checked the csv file to make it had no errors\r\n",
        "# noticed 'canada' had a space before the c\r\n",
        "print(dfCars[dfCars['country']=='canada'].index.values) # this gives me no index values\r\n",
        "\r\n",
        "print(dfCars[dfCars['country']==' canada'].index.values) # adding the space shows the index values\r\n"
      ],
      "execution_count": 13,
      "outputs": [
        {
          "output_type": "stream",
          "text": [
            "[]\n",
            "[261 813 814 815 816 817 818]\n"
          ],
          "name": "stdout"
        }
      ]
    },
    {
      "cell_type": "code",
      "metadata": {
        "colab": {
          "base_uri": "https://localhost:8080/",
          "height": 266
        },
        "id": "buKmeR1VwhG1",
        "outputId": "56a4d03b-3a28-4ab7-e1a0-bf78ce660f43"
      },
      "source": [
        "# Was able to use the code before to find all the Canada listings\r\n",
        "canadaIndex = dfCars[dfCars['country']==' canada'].index\r\n",
        "dfCars.loc[canadaIndex]\r\n",
        "\r\n",
        "# another question emerged: index 813 - 817 were all Dodge Chargers being sold for the same price. Are these duplicates?\r\n",
        "# I can use the VIN to check this\r\n",
        "# The VIN shows that there are all different cars. In addition, they all have different mileages and lot numbers\r\n",
        "# This reminded me to delete any duplicate VIN numbers just to be safe\r\n",
        "\r\n"
      ],
      "execution_count": 14,
      "outputs": [
        {
          "output_type": "execute_result",
          "data": {
            "text/html": [
              "<div>\n",
              "<style scoped>\n",
              "    .dataframe tbody tr th:only-of-type {\n",
              "        vertical-align: middle;\n",
              "    }\n",
              "\n",
              "    .dataframe tbody tr th {\n",
              "        vertical-align: top;\n",
              "    }\n",
              "\n",
              "    .dataframe thead th {\n",
              "        text-align: right;\n",
              "    }\n",
              "</style>\n",
              "<table border=\"1\" class=\"dataframe\">\n",
              "  <thead>\n",
              "    <tr style=\"text-align: right;\">\n",
              "      <th></th>\n",
              "      <th>price</th>\n",
              "      <th>brand</th>\n",
              "      <th>model</th>\n",
              "      <th>year</th>\n",
              "      <th>title_status</th>\n",
              "      <th>mileage</th>\n",
              "      <th>color</th>\n",
              "      <th>vin</th>\n",
              "      <th>lot</th>\n",
              "      <th>state</th>\n",
              "      <th>country</th>\n",
              "      <th>condition</th>\n",
              "    </tr>\n",
              "  </thead>\n",
              "  <tbody>\n",
              "    <tr>\n",
              "      <th>261</th>\n",
              "      <td>33000</td>\n",
              "      <td>chevrolet</td>\n",
              "      <td>1500</td>\n",
              "      <td>2018</td>\n",
              "      <td>clean vehicle</td>\n",
              "      <td>52521.0</td>\n",
              "      <td>white</td>\n",
              "      <td>3gcukreh0jg303596</td>\n",
              "      <td>167766786</td>\n",
              "      <td>ontario</td>\n",
              "      <td>canada</td>\n",
              "      <td>10 days left</td>\n",
              "    </tr>\n",
              "    <tr>\n",
              "      <th>813</th>\n",
              "      <td>30000</td>\n",
              "      <td>dodge</td>\n",
              "      <td>charger</td>\n",
              "      <td>2019</td>\n",
              "      <td>clean vehicle</td>\n",
              "      <td>43294.0</td>\n",
              "      <td>white</td>\n",
              "      <td>2c3cdxjg2kh630921</td>\n",
              "      <td>167766742</td>\n",
              "      <td>ontario</td>\n",
              "      <td>canada</td>\n",
              "      <td>10 days left</td>\n",
              "    </tr>\n",
              "    <tr>\n",
              "      <th>814</th>\n",
              "      <td>30000</td>\n",
              "      <td>dodge</td>\n",
              "      <td>charger</td>\n",
              "      <td>2019</td>\n",
              "      <td>clean vehicle</td>\n",
              "      <td>54309.0</td>\n",
              "      <td>orange</td>\n",
              "      <td>2c3cdxjg0kh682158</td>\n",
              "      <td>167766743</td>\n",
              "      <td>ontario</td>\n",
              "      <td>canada</td>\n",
              "      <td>10 days left</td>\n",
              "    </tr>\n",
              "    <tr>\n",
              "      <th>815</th>\n",
              "      <td>30000</td>\n",
              "      <td>dodge</td>\n",
              "      <td>charger</td>\n",
              "      <td>2019</td>\n",
              "      <td>clean vehicle</td>\n",
              "      <td>52822.0</td>\n",
              "      <td>white</td>\n",
              "      <td>2c3cdxjg2kh658962</td>\n",
              "      <td>167766751</td>\n",
              "      <td>ontario</td>\n",
              "      <td>canada</td>\n",
              "      <td>10 days left</td>\n",
              "    </tr>\n",
              "    <tr>\n",
              "      <th>816</th>\n",
              "      <td>30000</td>\n",
              "      <td>dodge</td>\n",
              "      <td>charger</td>\n",
              "      <td>2019</td>\n",
              "      <td>clean vehicle</td>\n",
              "      <td>45554.0</td>\n",
              "      <td>white</td>\n",
              "      <td>2c3cdxjg1kh630912</td>\n",
              "      <td>167766757</td>\n",
              "      <td>ontario</td>\n",
              "      <td>canada</td>\n",
              "      <td>10 days left</td>\n",
              "    </tr>\n",
              "    <tr>\n",
              "      <th>817</th>\n",
              "      <td>30000</td>\n",
              "      <td>dodge</td>\n",
              "      <td>charger</td>\n",
              "      <td>2019</td>\n",
              "      <td>clean vehicle</td>\n",
              "      <td>37538.0</td>\n",
              "      <td>white</td>\n",
              "      <td>2c3cdxjg1kh658953</td>\n",
              "      <td>167766758</td>\n",
              "      <td>ontario</td>\n",
              "      <td>canada</td>\n",
              "      <td>10 days left</td>\n",
              "    </tr>\n",
              "    <tr>\n",
              "      <th>818</th>\n",
              "      <td>29500</td>\n",
              "      <td>dodge</td>\n",
              "      <td>charger</td>\n",
              "      <td>2019</td>\n",
              "      <td>clean vehicle</td>\n",
              "      <td>35153.0</td>\n",
              "      <td>red</td>\n",
              "      <td>2c3cdxjg6kh630954</td>\n",
              "      <td>167766763</td>\n",
              "      <td>ontario</td>\n",
              "      <td>canada</td>\n",
              "      <td>10 days left</td>\n",
              "    </tr>\n",
              "  </tbody>\n",
              "</table>\n",
              "</div>"
            ],
            "text/plain": [
              "     price      brand    model  year  ...        lot    state  country     condition\n",
              "261  33000  chevrolet     1500  2018  ...  167766786  ontario   canada  10 days left\n",
              "813  30000      dodge  charger  2019  ...  167766742  ontario   canada  10 days left\n",
              "814  30000      dodge  charger  2019  ...  167766743  ontario   canada  10 days left\n",
              "815  30000      dodge  charger  2019  ...  167766751  ontario   canada  10 days left\n",
              "816  30000      dodge  charger  2019  ...  167766757  ontario   canada  10 days left\n",
              "817  30000      dodge  charger  2019  ...  167766758  ontario   canada  10 days left\n",
              "818  29500      dodge  charger  2019  ...  167766763  ontario   canada  10 days left\n",
              "\n",
              "[7 rows x 12 columns]"
            ]
          },
          "metadata": {
            "tags": []
          },
          "execution_count": 14
        }
      ]
    },
    {
      "cell_type": "code",
      "metadata": {
        "colab": {
          "base_uri": "https://localhost:8080/",
          "height": 419
        },
        "id": "uWr2plPhy57y",
        "outputId": "8e76d0f7-1e13-4ce7-eb43-80d2e8c6f510"
      },
      "source": [
        "# dropping duplicate VIN numbers\r\n",
        "dfCars.drop_duplicates(subset=['vin'])\r\n",
        "\r\n",
        "# the number of rows went from 2499 to 2495, indicating that there were duplicate vin numbers"
      ],
      "execution_count": 15,
      "outputs": [
        {
          "output_type": "execute_result",
          "data": {
            "text/html": [
              "<div>\n",
              "<style scoped>\n",
              "    .dataframe tbody tr th:only-of-type {\n",
              "        vertical-align: middle;\n",
              "    }\n",
              "\n",
              "    .dataframe tbody tr th {\n",
              "        vertical-align: top;\n",
              "    }\n",
              "\n",
              "    .dataframe thead th {\n",
              "        text-align: right;\n",
              "    }\n",
              "</style>\n",
              "<table border=\"1\" class=\"dataframe\">\n",
              "  <thead>\n",
              "    <tr style=\"text-align: right;\">\n",
              "      <th></th>\n",
              "      <th>price</th>\n",
              "      <th>brand</th>\n",
              "      <th>model</th>\n",
              "      <th>year</th>\n",
              "      <th>title_status</th>\n",
              "      <th>mileage</th>\n",
              "      <th>color</th>\n",
              "      <th>vin</th>\n",
              "      <th>lot</th>\n",
              "      <th>state</th>\n",
              "      <th>country</th>\n",
              "      <th>condition</th>\n",
              "    </tr>\n",
              "  </thead>\n",
              "  <tbody>\n",
              "    <tr>\n",
              "      <th>0</th>\n",
              "      <td>6300</td>\n",
              "      <td>toyota</td>\n",
              "      <td>cruiser</td>\n",
              "      <td>2008</td>\n",
              "      <td>clean vehicle</td>\n",
              "      <td>274117.0</td>\n",
              "      <td>black</td>\n",
              "      <td>jtezu11f88k007763</td>\n",
              "      <td>159348797</td>\n",
              "      <td>new jersey</td>\n",
              "      <td>usa</td>\n",
              "      <td>10 days left</td>\n",
              "    </tr>\n",
              "    <tr>\n",
              "      <th>1</th>\n",
              "      <td>2899</td>\n",
              "      <td>ford</td>\n",
              "      <td>se</td>\n",
              "      <td>2011</td>\n",
              "      <td>clean vehicle</td>\n",
              "      <td>190552.0</td>\n",
              "      <td>silver</td>\n",
              "      <td>2fmdk3gc4bbb02217</td>\n",
              "      <td>166951262</td>\n",
              "      <td>tennessee</td>\n",
              "      <td>usa</td>\n",
              "      <td>6 days left</td>\n",
              "    </tr>\n",
              "    <tr>\n",
              "      <th>2</th>\n",
              "      <td>5350</td>\n",
              "      <td>dodge</td>\n",
              "      <td>mpv</td>\n",
              "      <td>2018</td>\n",
              "      <td>clean vehicle</td>\n",
              "      <td>39590.0</td>\n",
              "      <td>silver</td>\n",
              "      <td>3c4pdcgg5jt346413</td>\n",
              "      <td>167655728</td>\n",
              "      <td>georgia</td>\n",
              "      <td>usa</td>\n",
              "      <td>2 days left</td>\n",
              "    </tr>\n",
              "    <tr>\n",
              "      <th>3</th>\n",
              "      <td>25000</td>\n",
              "      <td>ford</td>\n",
              "      <td>door</td>\n",
              "      <td>2014</td>\n",
              "      <td>clean vehicle</td>\n",
              "      <td>64146.0</td>\n",
              "      <td>blue</td>\n",
              "      <td>1ftfw1et4efc23745</td>\n",
              "      <td>167753855</td>\n",
              "      <td>virginia</td>\n",
              "      <td>usa</td>\n",
              "      <td>22 hours left</td>\n",
              "    </tr>\n",
              "    <tr>\n",
              "      <th>4</th>\n",
              "      <td>27700</td>\n",
              "      <td>chevrolet</td>\n",
              "      <td>1500</td>\n",
              "      <td>2018</td>\n",
              "      <td>clean vehicle</td>\n",
              "      <td>6654.0</td>\n",
              "      <td>red</td>\n",
              "      <td>3gcpcrec2jg473991</td>\n",
              "      <td>167763266</td>\n",
              "      <td>florida</td>\n",
              "      <td>usa</td>\n",
              "      <td>22 hours left</td>\n",
              "    </tr>\n",
              "    <tr>\n",
              "      <th>...</th>\n",
              "      <td>...</td>\n",
              "      <td>...</td>\n",
              "      <td>...</td>\n",
              "      <td>...</td>\n",
              "      <td>...</td>\n",
              "      <td>...</td>\n",
              "      <td>...</td>\n",
              "      <td>...</td>\n",
              "      <td>...</td>\n",
              "      <td>...</td>\n",
              "      <td>...</td>\n",
              "      <td>...</td>\n",
              "    </tr>\n",
              "    <tr>\n",
              "      <th>2494</th>\n",
              "      <td>7800</td>\n",
              "      <td>nissan</td>\n",
              "      <td>versa</td>\n",
              "      <td>2019</td>\n",
              "      <td>clean vehicle</td>\n",
              "      <td>23609.0</td>\n",
              "      <td>red</td>\n",
              "      <td>3n1cn7ap9kl880319</td>\n",
              "      <td>167722715</td>\n",
              "      <td>california</td>\n",
              "      <td>usa</td>\n",
              "      <td>1 days left</td>\n",
              "    </tr>\n",
              "    <tr>\n",
              "      <th>2495</th>\n",
              "      <td>9200</td>\n",
              "      <td>nissan</td>\n",
              "      <td>versa</td>\n",
              "      <td>2018</td>\n",
              "      <td>clean vehicle</td>\n",
              "      <td>34553.0</td>\n",
              "      <td>silver</td>\n",
              "      <td>3n1cn7ap5jl884088</td>\n",
              "      <td>167762225</td>\n",
              "      <td>florida</td>\n",
              "      <td>usa</td>\n",
              "      <td>21 hours left</td>\n",
              "    </tr>\n",
              "    <tr>\n",
              "      <th>2496</th>\n",
              "      <td>9200</td>\n",
              "      <td>nissan</td>\n",
              "      <td>versa</td>\n",
              "      <td>2018</td>\n",
              "      <td>clean vehicle</td>\n",
              "      <td>31594.0</td>\n",
              "      <td>silver</td>\n",
              "      <td>3n1cn7ap9jl884191</td>\n",
              "      <td>167762226</td>\n",
              "      <td>florida</td>\n",
              "      <td>usa</td>\n",
              "      <td>21 hours left</td>\n",
              "    </tr>\n",
              "    <tr>\n",
              "      <th>2497</th>\n",
              "      <td>9200</td>\n",
              "      <td>nissan</td>\n",
              "      <td>versa</td>\n",
              "      <td>2018</td>\n",
              "      <td>clean vehicle</td>\n",
              "      <td>32557.0</td>\n",
              "      <td>black</td>\n",
              "      <td>3n1cn7ap3jl883263</td>\n",
              "      <td>167762227</td>\n",
              "      <td>florida</td>\n",
              "      <td>usa</td>\n",
              "      <td>2 days left</td>\n",
              "    </tr>\n",
              "    <tr>\n",
              "      <th>2498</th>\n",
              "      <td>9200</td>\n",
              "      <td>nissan</td>\n",
              "      <td>versa</td>\n",
              "      <td>2018</td>\n",
              "      <td>clean vehicle</td>\n",
              "      <td>31371.0</td>\n",
              "      <td>silver</td>\n",
              "      <td>3n1cn7ap4jl884311</td>\n",
              "      <td>167762228</td>\n",
              "      <td>florida</td>\n",
              "      <td>usa</td>\n",
              "      <td>21 hours left</td>\n",
              "    </tr>\n",
              "  </tbody>\n",
              "</table>\n",
              "<p>2495 rows × 12 columns</p>\n",
              "</div>"
            ],
            "text/plain": [
              "      price      brand    model  ...       state country      condition\n",
              "0      6300     toyota  cruiser  ...  new jersey     usa   10 days left\n",
              "1      2899       ford       se  ...   tennessee     usa    6 days left\n",
              "2      5350      dodge      mpv  ...     georgia     usa    2 days left\n",
              "3     25000       ford     door  ...    virginia     usa  22 hours left\n",
              "4     27700  chevrolet     1500  ...     florida     usa  22 hours left\n",
              "...     ...        ...      ...  ...         ...     ...            ...\n",
              "2494   7800     nissan    versa  ...  california     usa    1 days left\n",
              "2495   9200     nissan    versa  ...     florida     usa  21 hours left\n",
              "2496   9200     nissan    versa  ...     florida     usa  21 hours left\n",
              "2497   9200     nissan    versa  ...     florida     usa    2 days left\n",
              "2498   9200     nissan    versa  ...     florida     usa  21 hours left\n",
              "\n",
              "[2495 rows x 12 columns]"
            ]
          },
          "metadata": {
            "tags": []
          },
          "execution_count": 15
        }
      ]
    },
    {
      "cell_type": "code",
      "metadata": {
        "colab": {
          "base_uri": "https://localhost:8080/"
        },
        "id": "pcmvIQTKlmJq",
        "outputId": "4f936e4d-bf96-4dd6-bae7-8535c6cb5a1a"
      },
      "source": [
        "# Are there more clean title or salvage title cars?\r\n",
        "dfCars['title_status'].value_counts()\r\n",
        "\r\n",
        "# I expected the website to include more salvage insurance cars, but my prediction was incorrect"
      ],
      "execution_count": 16,
      "outputs": [
        {
          "output_type": "execute_result",
          "data": {
            "text/plain": [
              "clean vehicle        2336\n",
              "salvage insurance     163\n",
              "Name: title_status, dtype: int64"
            ]
          },
          "metadata": {
            "tags": []
          },
          "execution_count": 16
        }
      ]
    },
    {
      "cell_type": "code",
      "metadata": {
        "colab": {
          "base_uri": "https://localhost:8080/",
          "height": 363
        },
        "id": "XAXpxNeRvfW-",
        "outputId": "323efe55-ddb4-4ab2-8ec7-8d86dcf34765"
      },
      "source": [
        "pd.value_counts(dfCars['title_status']).plot.bar()"
      ],
      "execution_count": 25,
      "outputs": [
        {
          "output_type": "execute_result",
          "data": {
            "text/plain": [
              "<matplotlib.axes._subplots.AxesSubplot at 0x7f7e301ce490>"
            ]
          },
          "metadata": {
            "tags": []
          },
          "execution_count": 25
        },
        {
          "output_type": "display_data",
          "data": {
            "image/png": "[encoded data removed]",
            "text/plain": [
              "<Figure size 432x288 with 1 Axes>"
            ]
          },
          "metadata": {
            "tags": [],
            "needs_background": "light"
          }
        }
      ]
    },
    {
      "cell_type": "code",
      "metadata": {
        "colab": {
          "base_uri": "https://localhost:8080/"
        },
        "id": "MjWDHZkenCEJ",
        "outputId": "7ca6c1be-d309-46c4-94ca-c2985ceb1d4d"
      },
      "source": [
        "# I will be deleting all cars with a price of 0\r\n",
        "# Find the index of all the cars with a price of 0:\r\n",
        "indexPrice = dfCars[dfCars['price'] == 0].index\r\n",
        "\r\n",
        "# drop these cars:\r\n",
        "dfCars.drop(indexPrice, inplace=True)\r\n",
        "\r\n",
        "# test to see if code above worked:\r\n",
        "dfCars.loc[dfCars['price'].idxmin()]\r\n",
        "\r\n",
        "# no longer shows the minimum price to be 0"
      ],
      "execution_count": 17,
      "outputs": [
        {
          "output_type": "execute_result",
          "data": {
            "text/plain": [
              "price                            25\n",
              "brand                     chevrolet\n",
              "model                        vehicl\n",
              "year                           2020\n",
              "title_status      salvage insurance\n",
              "mileage                        7232\n",
              "color                         black\n",
              "vin               2gnaxkev6l6128374\n",
              "lot                       167756877\n",
              "state                      kentucky\n",
              "country                         usa\n",
              "condition               3 days left\n",
              "Name: 206, dtype: object"
            ]
          },
          "metadata": {
            "tags": []
          },
          "execution_count": 17
        }
      ]
    },
    {
      "cell_type": "code",
      "metadata": {
        "colab": {
          "base_uri": "https://localhost:8080/"
        },
        "id": "abZnXfxinuuV",
        "outputId": "ad2d83b5-6665-48d9-fd43-9ead23873b9e"
      },
      "source": [
        "# repeat steps above for mileage:\r\n",
        "indexMileage = dfCars[dfCars['mileage'] == 0].index\r\n",
        "\r\n",
        "# drop these cars:\r\n",
        "dfCars.drop(indexMileage, inplace=True)\r\n",
        "\r\n",
        "# test to see if code above worked:\r\n",
        "dfCars.loc[dfCars['mileage'].idxmin()]\r\n",
        "\r\n",
        "# no longer shows the minimum price to be 0"
      ],
      "execution_count": 18,
      "outputs": [
        {
          "output_type": "execute_result",
          "data": {
            "text/plain": [
              "price                          4050\n",
              "brand                     heartland\n",
              "model                       pioneer\n",
              "year                           2018\n",
              "title_status          clean vehicle\n",
              "mileage                           1\n",
              "color                          gray\n",
              "vin               5sfpb3326je365727\n",
              "lot                       167265963\n",
              "state                  pennsylvania\n",
              "country                         usa\n",
              "condition               7 days left\n",
              "Name: 325, dtype: object"
            ]
          },
          "metadata": {
            "tags": []
          },
          "execution_count": 18
        }
      ]
    },
    {
      "cell_type": "code",
      "metadata": {
        "colab": {
          "base_uri": "https://localhost:8080/"
        },
        "id": "mt8TQsudpSb3",
        "outputId": "6624d798-5cce-482a-9fb2-b2f2682e361b"
      },
      "source": [
        "# The count of each car brand\r\n",
        "dfCars['brand'].value_counts()"
      ],
      "execution_count": 19,
      "outputs": [
        {
          "output_type": "execute_result",
          "data": {
            "text/plain": [
              "ford               1215\n",
              "dodge               430\n",
              "nissan              312\n",
              "chevrolet           286\n",
              "gmc                  40\n",
              "jeep                 30\n",
              "chrysler             18\n",
              "bmw                  16\n",
              "hyundai              15\n",
              "infiniti             12\n",
              "buick                12\n",
              "kia                  12\n",
              "honda                11\n",
              "mercedes-benz        10\n",
              "cadillac              9\n",
              "land                  4\n",
              "heartland             4\n",
              "audi                  3\n",
              "acura                 3\n",
              "peterbilt             2\n",
              "lexus                 2\n",
              "toyota                1\n",
              "ram                   1\n",
              "harley-davidson       1\n",
              "mazda                 1\n",
              "lincoln               1\n",
              "maserati              1\n",
              "jaguar                1\n",
              "Name: brand, dtype: int64"
            ]
          },
          "metadata": {
            "tags": []
          },
          "execution_count": 19
        }
      ]
    },
    {
      "cell_type": "code",
      "metadata": {
        "colab": {
          "base_uri": "https://localhost:8080/",
          "height": 353
        },
        "id": "6pQDtBRsqJ29",
        "outputId": "07b6ce14-1fe1-4eb0-b5af-560855e87023"
      },
      "source": [
        "# Plotting the number of cars per brand listed\r\n",
        "pd.value_counts(dfCars['brand']).plot.bar()"
      ],
      "execution_count": 117,
      "outputs": [
        {
          "output_type": "execute_result",
          "data": {
            "text/plain": [
              "<matplotlib.axes._subplots.AxesSubplot at 0x7fe63ec54c90>"
            ]
          },
          "metadata": {
            "tags": []
          },
          "execution_count": 117
        },
        {
          "output_type": "display_data",
          "data": {
            "image/png": "[encoded data removed]",
            "text/plain": [
              "<Figure size 432x288 with 1 Axes>"
            ]
          },
          "metadata": {
            "tags": [],
            "needs_background": "light"
          }
        }
      ]
    },
    {
      "cell_type": "code",
      "metadata": {
        "colab": {
          "base_uri": "https://localhost:8080/",
          "height": 319
        },
        "id": "M9-EE5kKrefO",
        "outputId": "14d259ba-e433-4658-cc04-2097017ccb5d"
      },
      "source": [
        "# Reduce the graph to only show the top 5 car brands with the most vehicles listed\r\n",
        "\r\n",
        "pd.value_counts(dfCars['brand']).head().plot.bar()\r\n",
        "# the graph shows that Ford has the most cars listed onto the website. Is this a bad thing? Issues with reliability?"
      ],
      "execution_count": 20,
      "outputs": [
        {
          "output_type": "execute_result",
          "data": {
            "text/plain": [
              "<matplotlib.axes._subplots.AxesSubplot at 0x7f0adb1ed490>"
            ]
          },
          "metadata": {
            "tags": []
          },
          "execution_count": 20
        },
        {
          "output_type": "display_data",
          "data": {
            "image/png": "[encoded data removed]",
            "text/plain": [
              "<Figure size 432x288 with 1 Axes>"
            ]
          },
          "metadata": {
            "tags": [],
            "needs_background": "light"
          }
        }
      ]
    },
    {
      "cell_type": "code",
      "metadata": {
        "colab": {
          "base_uri": "https://localhost:8080/",
          "height": 349
        },
        "id": "bcpwCbw8r3WD",
        "outputId": "d21fbcff-2cfb-4f3f-cae1-c0a97bcfb182"
      },
      "source": [
        "# Which states had the most listings?\r\n",
        "# Repeat steps above but replaced brand with state\r\n",
        "\r\n",
        "# All states:\r\n",
        "pd.value_counts(dfCars['state']).plot.bar()"
      ],
      "execution_count": null,
      "outputs": [
        {
          "output_type": "execute_result",
          "data": {
            "text/plain": [
              "<matplotlib.axes._subplots.AxesSubplot at 0x7f4506ea4450>"
            ]
          },
          "metadata": {
            "tags": []
          },
          "execution_count": 20
        },
        {
          "output_type": "display_data",
          "data": {
            "image/png": "[encoded data removed]",
            "text/plain": [
              "<Figure size 432x288 with 1 Axes>"
            ]
          },
          "metadata": {
            "tags": [],
            "needs_background": "light"
          }
        }
      ]
    },
    {
      "cell_type": "code",
      "metadata": {
        "colab": {
          "base_uri": "https://localhost:8080/",
          "height": 342
        },
        "id": "9TVbiFpLtEB9",
        "outputId": "cc7ec2bb-aeee-4c41-a4ce-aab6a10d579e"
      },
      "source": [
        "# Top 10 states:\r\n",
        "pd.value_counts(dfCars['state']).head(10).plot.bar()\r\n",
        "\r\n",
        "# Pennsylvania had the most listings"
      ],
      "execution_count": null,
      "outputs": [
        {
          "output_type": "execute_result",
          "data": {
            "text/plain": [
              "<matplotlib.axes._subplots.AxesSubplot at 0x7f36d31ca210>"
            ]
          },
          "metadata": {
            "tags": []
          },
          "execution_count": 68
        },
        {
          "output_type": "display_data",
          "data": {
            "image/png": "[encoded data removed]",
            "text/plain": [
              "<Figure size 432x288 with 1 Axes>"
            ]
          },
          "metadata": {
            "tags": [],
            "needs_background": "light"
          }
        }
      ]
    },
    {
      "cell_type": "code",
      "metadata": {
        "id": "YrvKirMKtRyY",
        "colab": {
          "base_uri": "https://localhost:8080/"
        },
        "outputId": "2b20f740-2afb-43f9-e282-556fbfecaa79"
      },
      "source": [
        "# Are more older or newer cars auctioned?\r\n",
        "dfCars['year'].value_counts()\r\n",
        "# More newer cars."
      ],
      "execution_count": null,
      "outputs": [
        {
          "output_type": "execute_result",
          "data": {
            "text/plain": [
              "2019    892\n",
              "2018    395\n",
              "2017    375\n",
              "2016    203\n",
              "2015    196\n",
              "2014    103\n",
              "2013     84\n",
              "2012     70\n",
              "2020     48\n",
              "2011     23\n",
              "2008     13\n",
              "2010     11\n",
              "2007      6\n",
              "2006      5\n",
              "2009      5\n",
              "2001      5\n",
              "2003      5\n",
              "2005      4\n",
              "2004      3\n",
              "1973      1\n",
              "1999      1\n",
              "2002      1\n",
              "2000      1\n",
              "1998      1\n",
              "1994      1\n",
              "1984      1\n",
              "Name: year, dtype: int64"
            ]
          },
          "metadata": {
            "tags": []
          },
          "execution_count": 81
        }
      ]
    },
    {
      "cell_type": "code",
      "metadata": {
        "colab": {
          "base_uri": "https://localhost:8080/",
          "height": 296
        },
        "id": "Kb3XSANT4tV0",
        "outputId": "88e24272-7647-4163-9509-3928ab86dd52"
      },
      "source": [
        "dfCars.plot.scatter('mileage','price',c='blue')"
      ],
      "execution_count": null,
      "outputs": [
        {
          "output_type": "execute_result",
          "data": {
            "text/plain": [
              "<matplotlib.axes._subplots.AxesSubplot at 0x7f36d24b3ed0>"
            ]
          },
          "metadata": {
            "tags": []
          },
          "execution_count": 96
        },
        {
          "output_type": "display_data",
          "data": {
            "image/png": "[encoded data removed]",
            "text/plain": [
              "<Figure size 432x288 with 1 Axes>"
            ]
          },
          "metadata": {
            "tags": [],
            "needs_background": "light"
          }
        }
      ]
    },
    {
      "cell_type": "code",
      "metadata": {
        "id": "g2lj1EjPiMKk",
        "colab": {
          "base_uri": "https://localhost:8080/",
          "height": 572
        },
        "outputId": "a6e249de-2e25-4f35-bbed-a8a6c9116f0a"
      },
      "source": [
        "topStates = pd.value_counts(dfCars['state']).head()\r\n",
        "topBrands = pd.value_counts(dfCars['brand']).head()\r\n",
        "\r\n",
        "dfCars.groupby(['state','brand']).size().unstack().plot(kind='bar',stacked=True)\r\n",
        "plt.show()\r\n",
        "\r\n"
      ],
      "execution_count": 8,
      "outputs": [
        {
          "output_type": "display_data",
          "data": {
            "image/png": "[encoded data removed]",
            "text/plain": [
              "<Figure size 432x288 with 1 Axes>"
            ]
          },
          "metadata": {
            "tags": [],
            "needs_background": "light"
          }
        }
      ]
    },
    {
      "cell_type": "code",
      "metadata": {
        "colab": {
          "base_uri": "https://localhost:8080/",
          "height": 282
        },
        "id": "bXkqwDQQjrAU",
        "outputId": "bac644c0-c92a-4d2e-afbb-ceaafc7288ee"
      },
      "source": [
        "# distribution of the car prices\r\n",
        "dfCars[['price']].plot(kind='hist', rwidth = 0.8,bins=15)"
      ],
      "execution_count": 24,
      "outputs": [
        {
          "output_type": "execute_result",
          "data": {
            "text/plain": [
              "<matplotlib.axes._subplots.AxesSubplot at 0x7f7e2f9d7490>"
            ]
          },
          "metadata": {
            "tags": []
          },
          "execution_count": 24
        },
        {
          "output_type": "display_data",
          "data": {
            "image/png": "[encoded data removed]",
            "text/plain": [
              "<Figure size 432x288 with 1 Axes>"
            ]
          },
          "metadata": {
            "tags": [],
            "needs_background": "light"
          }
        }
      ]
    },
    {
      "cell_type": "code",
      "metadata": {
        "colab": {
          "base_uri": "https://localhost:8080/",
          "height": 295
        },
        "id": "6VgVh0FXkC_t",
        "outputId": "139d8453-c1f4-4f30-ccf9-90525dbd6f8c"
      },
      "source": [
        "# In this data set, is there a correlation between mileage and car price?\r\n",
        "plt.scatter(dfCars.mileage, dfCars.price)\r\n",
        "# This plot shows that in this case, there is no correlation. There are cars with low miles selling for various prices"
      ],
      "execution_count": null,
      "outputs": [
        {
          "output_type": "execute_result",
          "data": {
            "text/plain": [
              "<matplotlib.collections.PathCollection at 0x7fe65c4a4b10>"
            ]
          },
          "metadata": {
            "tags": []
          },
          "execution_count": 25
        },
        {
          "output_type": "display_data",
          "data": {
            "image/png": "[encoded data removed]",
            "text/plain": [
              "<Figure size 432x288 with 1 Axes>"
            ]
          },
          "metadata": {
            "tags": [],
            "needs_background": "light"
          }
        }
      ]
    }
  ]
}